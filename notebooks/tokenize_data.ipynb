{
 "cells": [
  {
   "cell_type": "code",
<<<<<<< HEAD
   "execution_count": 1,
=======
   "execution_count": 2,
>>>>>>> 2bf7b51a4a45dd60dc26a60f0846d1643184e004
   "id": "51c02e95",
   "metadata": {},
   "outputs": [],
   "source": [
    "import pandas as pd\n",
    "import torch\n",
    "from transformers import BertTokenizer"
   ]
  },
  {
   "cell_type": "code",
<<<<<<< HEAD
   "execution_count": 2,
=======
   "execution_count": 3,
>>>>>>> 2bf7b51a4a45dd60dc26a60f0846d1643184e004
   "id": "cd26dbcb",
   "metadata": {},
   "outputs": [],
   "source": [
    "MAX_LEN = 128\n",
    "MODEL_NAME = 'bert-base-uncased'\n",
    "tokenizer = BertTokenizer.from_pretrained(MODEL_NAME)"
   ]
  },
  {
   "cell_type": "code",
<<<<<<< HEAD
   "execution_count": 3,
=======
   "execution_count": 4,
>>>>>>> 2bf7b51a4a45dd60dc26a60f0846d1643184e004
   "id": "bba1f329",
   "metadata": {},
   "outputs": [],
   "source": [
    "def preprocess_and_tokenize(df, text_column):\n",
    "    # Lowercase and remove whitespace\n",
    "    texts = df[text_column].str.lower().str.strip().tolist()\n",
<<<<<<< HEAD
=======
    "    labels = df['label'].tolist()\n",
>>>>>>> 2bf7b51a4a45dd60dc26a60f0846d1643184e004
    "\n",
    "    encoding = tokenizer(\n",
    "        texts,\n",
    "        padding='max_length',\n",
    "        truncation=True,\n",
    "        max_length=MAX_LEN,\n",
    "        return_tensors='pt'\n",
    "    )\n",
<<<<<<< HEAD
    "    return encoding['input_ids'], encoding['attention_mask']"
=======
    "    labels = torch.tensor(labels)\n",
    "    return encoding['input_ids'], encoding['attention_mask'], labels"
>>>>>>> 2bf7b51a4a45dd60dc26a60f0846d1643184e004
   ]
  },
  {
   "cell_type": "code",
<<<<<<< HEAD
   "execution_count": 1,
=======
   "execution_count": 5,
>>>>>>> 2bf7b51a4a45dd60dc26a60f0846d1643184e004
   "id": "00a87e3e",
   "metadata": {},
   "outputs": [],
   "source": [
    "def process_and_save(csv_path, save_prefix):\n",
    "    print(f\"Processing {csv_path}...\")\n",
    "    df = pd.read_csv(csv_path)\n",
    "    \n",
    "    print(f\"Number of samples: {len(df)}\")\n",
    "    print(f\"Columns: {df.columns.tolist()}\")\n",
    "\n",
<<<<<<< HEAD
    "    input_ids, attention_mask = preprocess_and_tokenize(df, 'text')\n",
    "\n",
    "    torch.save(input_ids, f'../data/processed/{save_prefix}_input_ids.pt')\n",
    "    torch.save(attention_mask, f'../data/processed/{save_prefix}_attention_mask.pt')\n",
    "\n",
    "    print(f\"Saved {save_prefix} input_ids and attention_mask!\\n\")"
=======
    "    input_ids, attention_mask, labels = preprocess_and_tokenize(df, 'text')\n",
    "\n",
    "    torch.save(input_ids, f'../data/processed/{save_prefix}_input_ids.pt')\n",
    "    torch.save(attention_mask, f'../data/processed/{save_prefix}_attention_mask.pt')\n",
    "    torch.save(labels, f'../data/processed/{save_prefix}_labels.pt')\n",
    "\n",
    "    print(f\"Saved {save_prefix} input_ids, attention_mask, and labels!\\n\")\n"
>>>>>>> 2bf7b51a4a45dd60dc26a60f0846d1643184e004
   ]
  },
  {
   "cell_type": "code",
<<<<<<< HEAD
   "execution_count": 5,
=======
   "execution_count": 6,
>>>>>>> 2bf7b51a4a45dd60dc26a60f0846d1643184e004
   "id": "b9a89414",
   "metadata": {},
   "outputs": [
    {
     "name": "stdout",
     "output_type": "stream",
     "text": [
      "Processing ../data/processed/train.csv...\n",
      "Number of samples: 1200\n",
      "Columns: ['text', 'label']\n",
<<<<<<< HEAD
      "Saved train input_ids and attention_mask!\n",
=======
      "Saved train input_ids, attention_mask, and labels!\n",
>>>>>>> 2bf7b51a4a45dd60dc26a60f0846d1643184e004
      "\n",
      "Processing ../data/processed/val.csv...\n",
      "Number of samples: 150\n",
      "Columns: ['text', 'label']\n",
<<<<<<< HEAD
      "Saved val input_ids and attention_mask!\n",
=======
      "Saved val input_ids, attention_mask, and labels!\n",
>>>>>>> 2bf7b51a4a45dd60dc26a60f0846d1643184e004
      "\n",
      "Processing ../data/processed/test.csv...\n",
      "Number of samples: 150\n",
      "Columns: ['text', 'label']\n",
<<<<<<< HEAD
      "Saved test input_ids and attention_mask!\n",
=======
      "Saved test input_ids, attention_mask, and labels!\n",
>>>>>>> 2bf7b51a4a45dd60dc26a60f0846d1643184e004
      "\n"
     ]
    }
   ],
   "source": [
    "process_and_save('../data/processed/train.csv', 'train')\n",
    "process_and_save('../data/processed/val.csv', 'val')\n",
    "process_and_save('../data/processed/test.csv', 'test')"
   ]
  }
 ],
 "metadata": {
  "kernelspec": {
<<<<<<< HEAD
   "display_name": "base",
=======
   "display_name": ".venv",
>>>>>>> 2bf7b51a4a45dd60dc26a60f0846d1643184e004
   "language": "python",
   "name": "python3"
  },
  "language_info": {
   "codemirror_mode": {
    "name": "ipython",
    "version": 3
   },
   "file_extension": ".py",
   "mimetype": "text/x-python",
   "name": "python",
   "nbconvert_exporter": "python",
   "pygments_lexer": "ipython3",
<<<<<<< HEAD
   "version": "3.11.7"
=======
   "version": "3.12.1"
>>>>>>> 2bf7b51a4a45dd60dc26a60f0846d1643184e004
  }
 },
 "nbformat": 4,
 "nbformat_minor": 5
}
