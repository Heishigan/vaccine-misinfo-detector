{
 "cells": [
  {
   "cell_type": "code",
   "execution_count": 7,
   "id": "07303e12",
   "metadata": {},
   "outputs": [],
   "source": [
    "import pandas as pd\n",
    "from sklearn.model_selection import train_test_split\n",
    "file_path = '../data/raw/CoAID/05-01-2020/ClaimFakeCOVID-19.csv'\n",
    "\n",
    "\n",
    "fake = pd.read_csv('../data/raw/CoAID/05-01-2020/ClaimFakeCOVID-19.csv')\n",
    "real = pd.read_csv('../data/raw/CoAID/05-01-2020/ClaimRealCOVID-19.csv')\n",
    "\n",
    "fake_titles = fake[['title']].copy()\n",
    "fake_titles['label'] = 1  # Misinformation\n",
    "\n",
    "real_titles = real[['title']].copy()\n",
    "real_titles['label'] = 0  # Factual\n",
    "\n",
    "dataset = pd.concat([fake_titles, real_titles], axis=0)\n",
    "dataset = dataset.rename(columns={'title': 'text'})\n",
    "\n",
    "min_samples = min(len(fake_titles), len(real_titles))\n",
    "balanced = pd.concat([\n",
    "    fake_titles.sample(min_samples),\n",
    "    real_titles.sample(min_samples)\n",
    "]).sample(frac=1).reset_index(drop=True)\n",
    "\n",
    "train, temp = train_test_split(balanced, test_size=0.2, random_state=42)\n",
    "val, test = train_test_split(temp, test_size=0.5, random_state=42)\n",
    "\n",
    "train.to_csv('../data/processed/train.csv', index=False)\n",
    "val.to_csv('../data/processed/val.csv', index=False)\n",
    "test.to_csv('../data/processed/test.csv', index=False)"
   ]
  },
  {
   "cell_type": "code",
   "execution_count": 8,
   "id": "744c1773",
   "metadata": {},
   "outputs": [
    {
     "name": "stdout",
     "output_type": "stream",
     "text": [
      "Total samples: 54\n",
      "Class balance:\n",
      "label\n",
      "1    27\n",
      "0    27\n",
      "Name: count, dtype: int64\n",
      "\n",
      "Sample fake claim: \"Home remedies can cure and protect against COVID-19\"\n",
      "Sample real claim: \"What are the International Health Regulations?\"\n"
     ]
    }
   ],
   "source": [
    "print(f\"Total samples: {len(balanced)}\")\n",
    "print(f\"Class balance:\\n{balanced['label'].value_counts()}\")\n",
    "print(f\"\\nSample fake claim: {balanced[balanced['label'] == 1]['title'].iloc[0]}\")\n",
    "print(f\"Sample real claim: {balanced[balanced['label'] == 0]['title'].iloc[0]}\")"
   ]
  },
  {
   "cell_type": "code",
   "execution_count": null,
   "id": "f3cb1fbf",
   "metadata": {},
   "outputs": [
    {
     "name": "stderr",
     "output_type": "stream",
     "text": [
      " 40%|████      | 2/5 [00:00<00:00,  6.35it/s]"
     ]
    },
    {
     "name": "stdout",
     "output_type": "stream",
     "text": [
      "Error fetching batch 0: 401 Unauthorized\n",
      "Unauthorized\n",
      "Error fetching batch 100: 401 Unauthorized\n",
      "Unauthorized\n"
     ]
    },
    {
     "name": "stderr",
     "output_type": "stream",
     "text": [
      " 80%|████████  | 4/5 [00:00<00:00,  6.66it/s]"
     ]
    },
    {
     "name": "stdout",
     "output_type": "stream",
     "text": [
      "Error fetching batch 200: 401 Unauthorized\n",
      "Unauthorized\n",
      "Error fetching batch 300: 401 Unauthorized\n",
      "Unauthorized\n"
     ]
    },
    {
     "name": "stderr",
     "output_type": "stream",
     "text": [
      "100%|██████████| 5/5 [00:00<00:00,  6.57it/s]\n"
     ]
    },
    {
     "name": "stdout",
     "output_type": "stream",
     "text": [
      "Error fetching batch 400: 401 Unauthorized\n",
      "Unauthorized\n"
     ]
    },
    {
     "name": "stderr",
     "output_type": "stream",
     "text": [
      "  2%|▏         | 1/64 [00:00<00:09,  6.60it/s]"
     ]
    },
    {
     "name": "stdout",
     "output_type": "stream",
     "text": [
      "Error fetching batch 0: 401 Unauthorized\n",
      "Unauthorized\n"
     ]
    },
    {
     "name": "stderr",
     "output_type": "stream",
     "text": [
      "  3%|▎         | 2/64 [00:00<00:09,  6.22it/s]"
     ]
    },
    {
     "name": "stdout",
     "output_type": "stream",
     "text": [
      "Error fetching batch 100: 401 Unauthorized\n",
      "Unauthorized\n"
     ]
    },
    {
     "name": "stderr",
     "output_type": "stream",
     "text": [
      "  5%|▍         | 3/64 [00:00<00:09,  6.56it/s]"
     ]
    },
    {
     "name": "stdout",
     "output_type": "stream",
     "text": [
      "Error fetching batch 200: 401 Unauthorized\n",
      "Unauthorized\n"
     ]
    },
    {
     "name": "stderr",
     "output_type": "stream",
     "text": [
      "  6%|▋         | 4/64 [00:00<00:09,  6.27it/s]"
     ]
    },
    {
     "name": "stdout",
     "output_type": "stream",
     "text": [
      "Error fetching batch 300: 401 Unauthorized\n",
      "Unauthorized\n"
     ]
    },
    {
     "name": "stderr",
     "output_type": "stream",
     "text": [
      "  8%|▊         | 5/64 [00:00<00:09,  6.46it/s]"
     ]
    },
    {
     "name": "stdout",
     "output_type": "stream",
     "text": [
      "Error fetching batch 400: 401 Unauthorized\n",
      "Unauthorized\n"
     ]
    },
    {
     "name": "stderr",
     "output_type": "stream",
     "text": [
      "  9%|▉         | 6/64 [00:00<00:08,  6.82it/s]"
     ]
    },
    {
     "name": "stdout",
     "output_type": "stream",
     "text": [
      "Error fetching batch 500: 401 Unauthorized\n",
      "Unauthorized\n"
     ]
    },
    {
     "name": "stderr",
     "output_type": "stream",
     "text": [
      " 11%|█         | 7/64 [00:01<00:08,  6.62it/s]"
     ]
    },
    {
     "name": "stdout",
     "output_type": "stream",
     "text": [
      "Error fetching batch 600: 401 Unauthorized\n",
      "Unauthorized\n"
     ]
    },
    {
     "name": "stderr",
     "output_type": "stream",
     "text": [
      " 12%|█▎        | 8/64 [00:01<00:08,  6.85it/s]"
     ]
    },
    {
     "name": "stdout",
     "output_type": "stream",
     "text": [
      "Error fetching batch 700: 401 Unauthorized\n",
      "Unauthorized\n"
     ]
    },
    {
     "name": "stderr",
     "output_type": "stream",
     "text": [
      " 14%|█▍        | 9/64 [00:01<00:08,  6.67it/s]"
     ]
    },
    {
     "name": "stdout",
     "output_type": "stream",
     "text": [
      "Error fetching batch 800: 401 Unauthorized\n",
      "Unauthorized\n"
     ]
    },
    {
     "name": "stderr",
     "output_type": "stream",
     "text": [
      " 16%|█▌        | 10/64 [00:01<00:07,  6.87it/s]"
     ]
    },
    {
     "name": "stdout",
     "output_type": "stream",
     "text": [
      "Error fetching batch 900: 401 Unauthorized\n",
      "Unauthorized\n"
     ]
    },
    {
     "name": "stderr",
     "output_type": "stream",
     "text": [
      " 17%|█▋        | 11/64 [00:01<00:07,  6.86it/s]"
     ]
    },
    {
     "name": "stdout",
     "output_type": "stream",
     "text": [
      "Error fetching batch 1000: 401 Unauthorized\n",
      "Unauthorized\n"
     ]
    },
    {
     "name": "stderr",
     "output_type": "stream",
     "text": [
      " 19%|█▉        | 12/64 [00:01<00:07,  6.95it/s]"
     ]
    },
    {
     "name": "stdout",
     "output_type": "stream",
     "text": [
      "Error fetching batch 1100: 401 Unauthorized\n",
      "Unauthorized\n"
     ]
    },
    {
     "name": "stderr",
     "output_type": "stream",
     "text": [
      " 20%|██        | 13/64 [00:01<00:07,  7.17it/s]"
     ]
    },
    {
     "name": "stdout",
     "output_type": "stream",
     "text": [
      "Error fetching batch 1200: 401 Unauthorized\n",
      "Unauthorized\n"
     ]
    },
    {
     "name": "stderr",
     "output_type": "stream",
     "text": [
      " 22%|██▏       | 14/64 [00:02<00:06,  7.29it/s]"
     ]
    },
    {
     "name": "stdout",
     "output_type": "stream",
     "text": [
      "Error fetching batch 1300: 401 Unauthorized\n",
      "Unauthorized\n"
     ]
    },
    {
     "name": "stderr",
     "output_type": "stream",
     "text": [
      " 23%|██▎       | 15/64 [00:02<00:06,  7.31it/s]"
     ]
    },
    {
     "name": "stdout",
     "output_type": "stream",
     "text": [
      "Error fetching batch 1400: 401 Unauthorized\n",
      "Unauthorized\n"
     ]
    },
    {
     "name": "stderr",
     "output_type": "stream",
     "text": [
      " 25%|██▌       | 16/64 [00:02<00:06,  7.30it/s]"
     ]
    },
    {
     "name": "stdout",
     "output_type": "stream",
     "text": [
      "Error fetching batch 1500: 401 Unauthorized\n",
      "Unauthorized\n"
     ]
    },
    {
     "name": "stderr",
     "output_type": "stream",
     "text": [
      " 27%|██▋       | 17/64 [00:02<00:06,  7.06it/s]"
     ]
    },
    {
     "name": "stdout",
     "output_type": "stream",
     "text": [
      "Error fetching batch 1600: 401 Unauthorized\n",
      "Unauthorized\n"
     ]
    },
    {
     "name": "stderr",
     "output_type": "stream",
     "text": [
      " 28%|██▊       | 18/64 [00:02<00:06,  7.09it/s]"
     ]
    },
    {
     "name": "stdout",
     "output_type": "stream",
     "text": [
      "Error fetching batch 1700: 401 Unauthorized\n",
      "Unauthorized\n"
     ]
    },
    {
     "name": "stderr",
     "output_type": "stream",
     "text": [
      " 30%|██▉       | 19/64 [00:02<00:06,  7.13it/s]"
     ]
    },
    {
     "name": "stdout",
     "output_type": "stream",
     "text": [
      "Error fetching batch 1800: 401 Unauthorized\n",
      "Unauthorized\n"
     ]
    },
    {
     "name": "stderr",
     "output_type": "stream",
     "text": [
      " 31%|███▏      | 20/64 [00:02<00:06,  6.87it/s]"
     ]
    },
    {
     "name": "stdout",
     "output_type": "stream",
     "text": [
      "Error fetching batch 1900: 401 Unauthorized\n",
      "Unauthorized\n"
     ]
    },
    {
     "name": "stderr",
     "output_type": "stream",
     "text": [
      " 33%|███▎      | 21/64 [00:03<00:06,  6.79it/s]"
     ]
    },
    {
     "name": "stdout",
     "output_type": "stream",
     "text": [
      "Error fetching batch 2000: 401 Unauthorized\n",
      "Unauthorized\n"
     ]
    },
    {
     "name": "stderr",
     "output_type": "stream",
     "text": [
      " 34%|███▍      | 22/64 [00:03<00:06,  6.74it/s]"
     ]
    },
    {
     "name": "stdout",
     "output_type": "stream",
     "text": [
      "Error fetching batch 2100: 401 Unauthorized\n",
      "Unauthorized\n"
     ]
    },
    {
     "name": "stderr",
     "output_type": "stream",
     "text": [
      " 36%|███▌      | 23/64 [00:03<00:06,  6.81it/s]"
     ]
    },
    {
     "name": "stdout",
     "output_type": "stream",
     "text": [
      "Error fetching batch 2200: 401 Unauthorized\n",
      "Unauthorized\n"
     ]
    },
    {
     "name": "stderr",
     "output_type": "stream",
     "text": [
      " 38%|███▊      | 24/64 [00:03<00:05,  6.73it/s]"
     ]
    },
    {
     "name": "stdout",
     "output_type": "stream",
     "text": [
      "Error fetching batch 2300: 401 Unauthorized\n",
      "Unauthorized\n"
     ]
    },
    {
     "name": "stderr",
     "output_type": "stream",
     "text": [
      " 39%|███▉      | 25/64 [00:03<00:05,  6.99it/s]"
     ]
    },
    {
     "name": "stdout",
     "output_type": "stream",
     "text": [
      "Error fetching batch 2400: 401 Unauthorized\n",
      "Unauthorized\n"
     ]
    },
    {
     "name": "stderr",
     "output_type": "stream",
     "text": [
      " 41%|████      | 26/64 [00:03<00:05,  7.03it/s]"
     ]
    },
    {
     "name": "stdout",
     "output_type": "stream",
     "text": [
      "Error fetching batch 2500: 401 Unauthorized\n",
      "Unauthorized\n"
     ]
    },
    {
     "name": "stderr",
     "output_type": "stream",
     "text": [
      " 42%|████▏     | 27/64 [00:03<00:05,  7.23it/s]"
     ]
    },
    {
     "name": "stdout",
     "output_type": "stream",
     "text": [
      "Error fetching batch 2600: 401 Unauthorized\n",
      "Unauthorized\n"
     ]
    },
    {
     "name": "stderr",
     "output_type": "stream",
     "text": [
      " 45%|████▌     | 29/64 [00:04<00:05,  6.38it/s]"
     ]
    },
    {
     "name": "stdout",
     "output_type": "stream",
     "text": [
      "Error fetching batch 2700: 401 Unauthorized\n",
      "Unauthorized\n",
      "Error fetching batch 2800: 401 Unauthorized\n",
      "Unauthorized\n"
     ]
    },
    {
     "name": "stderr",
     "output_type": "stream",
     "text": [
      " 48%|████▊     | 31/64 [00:04<00:04,  6.67it/s]"
     ]
    },
    {
     "name": "stdout",
     "output_type": "stream",
     "text": [
      "Error fetching batch 2900: 401 Unauthorized\n",
      "Unauthorized\n",
      "Error fetching batch 3000: 401 Unauthorized\n",
      "Unauthorized\n"
     ]
    },
    {
     "name": "stderr",
     "output_type": "stream",
     "text": [
      " 52%|█████▏    | 33/64 [00:04<00:04,  6.81it/s]"
     ]
    },
    {
     "name": "stdout",
     "output_type": "stream",
     "text": [
      "Error fetching batch 3100: 401 Unauthorized\n",
      "Unauthorized\n",
      "Error fetching batch 3200: 401 Unauthorized\n",
      "Unauthorized\n"
     ]
    },
    {
     "name": "stderr",
     "output_type": "stream",
     "text": [
      " 55%|█████▍    | 35/64 [00:05<00:04,  7.03it/s]"
     ]
    },
    {
     "name": "stdout",
     "output_type": "stream",
     "text": [
      "Error fetching batch 3300: 401 Unauthorized\n",
      "Unauthorized\n",
      "Error fetching batch 3400: 401 Unauthorized\n",
      "Unauthorized\n"
     ]
    },
    {
     "name": "stderr",
     "output_type": "stream",
     "text": [
      " 58%|█████▊    | 37/64 [00:05<00:03,  6.98it/s]"
     ]
    },
    {
     "name": "stdout",
     "output_type": "stream",
     "text": [
      "Error fetching batch 3500: 401 Unauthorized\n",
      "Unauthorized\n",
      "Error fetching batch 3600: 401 Unauthorized\n",
      "Unauthorized\n"
     ]
    },
    {
     "name": "stderr",
     "output_type": "stream",
     "text": [
      " 61%|██████    | 39/64 [00:05<00:03,  7.16it/s]"
     ]
    },
    {
     "name": "stdout",
     "output_type": "stream",
     "text": [
      "Error fetching batch 3700: 401 Unauthorized\n",
      "Unauthorized\n",
      "Error fetching batch 3800: 401 Unauthorized\n",
      "Unauthorized\n"
     ]
    },
    {
     "name": "stderr",
     "output_type": "stream",
     "text": [
      " 64%|██████▍   | 41/64 [00:05<00:03,  7.17it/s]"
     ]
    },
    {
     "name": "stdout",
     "output_type": "stream",
     "text": [
      "Error fetching batch 3900: 401 Unauthorized\n",
      "Unauthorized\n",
      "Error fetching batch 4000: 401 Unauthorized\n",
      "Unauthorized\n"
     ]
    },
    {
     "name": "stderr",
     "output_type": "stream",
     "text": [
      " 67%|██████▋   | 43/64 [00:06<00:02,  7.18it/s]"
     ]
    },
    {
     "name": "stdout",
     "output_type": "stream",
     "text": [
      "Error fetching batch 4100: 401 Unauthorized\n",
      "Unauthorized\n",
      "Error fetching batch 4200: 401 Unauthorized\n",
      "Unauthorized\n"
     ]
    },
    {
     "name": "stderr",
     "output_type": "stream",
     "text": [
      " 70%|███████   | 45/64 [00:06<00:02,  7.28it/s]"
     ]
    },
    {
     "name": "stdout",
     "output_type": "stream",
     "text": [
      "Error fetching batch 4300: 401 Unauthorized\n",
      "Unauthorized\n",
      "Error fetching batch 4400: 401 Unauthorized\n",
      "Unauthorized\n"
     ]
    },
    {
     "name": "stderr",
     "output_type": "stream",
     "text": [
      " 73%|███████▎  | 47/64 [00:06<00:02,  7.08it/s]"
     ]
    },
    {
     "name": "stdout",
     "output_type": "stream",
     "text": [
      "Error fetching batch 4500: 401 Unauthorized\n",
      "Unauthorized\n",
      "Error fetching batch 4600: 401 Unauthorized\n",
      "Unauthorized\n"
     ]
    },
    {
     "name": "stderr",
     "output_type": "stream",
     "text": [
      " 77%|███████▋  | 49/64 [00:07<00:02,  7.01it/s]"
     ]
    },
    {
     "name": "stdout",
     "output_type": "stream",
     "text": [
      "Error fetching batch 4700: 401 Unauthorized\n",
      "Unauthorized\n",
      "Error fetching batch 4800: 401 Unauthorized\n",
      "Unauthorized\n"
     ]
    },
    {
     "name": "stderr",
     "output_type": "stream",
     "text": [
      " 80%|███████▉  | 51/64 [00:07<00:01,  6.95it/s]"
     ]
    },
    {
     "name": "stdout",
     "output_type": "stream",
     "text": [
      "Error fetching batch 4900: 401 Unauthorized\n",
      "Unauthorized\n",
      "Error fetching batch 5000: 401 Unauthorized\n",
      "Unauthorized\n"
     ]
    },
    {
     "name": "stderr",
     "output_type": "stream",
     "text": [
      " 83%|████████▎ | 53/64 [00:07<00:01,  7.18it/s]"
     ]
    },
    {
     "name": "stdout",
     "output_type": "stream",
     "text": [
      "Error fetching batch 5100: 401 Unauthorized\n",
      "Unauthorized\n",
      "Error fetching batch 5200: 401 Unauthorized\n",
      "Unauthorized\n"
     ]
    },
    {
     "name": "stderr",
     "output_type": "stream",
     "text": [
      " 86%|████████▌ | 55/64 [00:07<00:01,  7.20it/s]"
     ]
    },
    {
     "name": "stdout",
     "output_type": "stream",
     "text": [
      "Error fetching batch 5300: 401 Unauthorized\n",
      "Unauthorized\n",
      "Error fetching batch 5400: 401 Unauthorized\n",
      "Unauthorized\n"
     ]
    },
    {
     "name": "stderr",
     "output_type": "stream",
     "text": [
      " 89%|████████▉ | 57/64 [00:08<00:00,  7.05it/s]"
     ]
    },
    {
     "name": "stdout",
     "output_type": "stream",
     "text": [
      "Error fetching batch 5500: 401 Unauthorized\n",
      "Unauthorized\n",
      "Error fetching batch 5600: 401 Unauthorized\n",
      "Unauthorized\n"
     ]
    },
    {
     "name": "stderr",
     "output_type": "stream",
     "text": [
      " 92%|█████████▏| 59/64 [00:08<00:00,  7.21it/s]"
     ]
    },
    {
     "name": "stdout",
     "output_type": "stream",
     "text": [
      "Error fetching batch 5700: 401 Unauthorized\n",
      "Unauthorized\n",
      "Error fetching batch 5800: 401 Unauthorized\n",
      "Unauthorized\n"
     ]
    },
    {
     "name": "stderr",
     "output_type": "stream",
     "text": [
      " 95%|█████████▌| 61/64 [00:08<00:00,  6.80it/s]"
     ]
    },
    {
     "name": "stdout",
     "output_type": "stream",
     "text": [
      "Error fetching batch 5900: 401 Unauthorized\n",
      "Unauthorized\n",
      "Error fetching batch 6000: 401 Unauthorized\n",
      "Unauthorized\n"
     ]
    },
    {
     "name": "stderr",
     "output_type": "stream",
     "text": [
      " 98%|█████████▊| 63/64 [00:09<00:00,  7.19it/s]"
     ]
    },
    {
     "name": "stdout",
     "output_type": "stream",
     "text": [
      "Error fetching batch 6100: 401 Unauthorized\n",
      "Unauthorized\n",
      "Error fetching batch 6200: 401 Unauthorized\n",
      "Unauthorized\n"
     ]
    },
    {
     "name": "stderr",
     "output_type": "stream",
     "text": [
      "100%|██████████| 64/64 [00:09<00:00,  6.97it/s]"
     ]
    },
    {
     "name": "stdout",
     "output_type": "stream",
     "text": [
      "Error fetching batch 6300: 401 Unauthorized\n",
      "Unauthorized\n"
     ]
    },
    {
     "name": "stderr",
     "output_type": "stream",
     "text": [
      "\n"
     ]
    }
   ],
   "source": [
    "import tweepy\n",
    "from tqdm import tqdm\n",
    "\n",
    "BEARER_TOKEN = '???????????????????????????????????????'\n",
    "\n",
    "client = tweepy.Client(bearer_token=BEARER_TOKEN, wait_on_rate_limit=True)\n",
    "\n",
    "fake_df = pd.read_csv('../data/raw/CoAID/05-01-2020/ClaimFakeCOVID-19_tweets.csv', header=None)\n",
    "real_df = pd.read_csv('../data/raw/CoAID/05-01-2020/ClaimRealCOVID-19_tweets.csv', header=None)\n",
    "\n",
    "fake_ids = fake_df[1].astype(str).tolist()\n",
    "real_ids = real_df[1].astype(str).tolist()\n",
    "\n",
    "def hydrate_tweets(tweet_ids):\n",
    "    tweets = []\n",
    "    for i in tqdm(range(0, len(tweet_ids), 100)):\n",
    "        batch = tweet_ids[i:i+100]\n",
    "        try:\n",
    "            batch = [str(tid).strip() for tid in batch if str(tid).strip().isdigit()]\n",
    "            if not batch:\n",
    "                continue\n",
    "            response = client.get_tweets(ids=batch, tweet_fields=['text'])\n",
    "            if response.data:\n",
    "                tweets.extend([tweet.text for tweet in response.data])\n",
    "        except Exception as e:\n",
    "            print(f\"Error fetching batch {i}: {e}\")\n",
    "    return tweets\n",
    "\n",
    "fake_tweets = hydrate_tweets(fake_ids)\n",
    "real_tweets = hydrate_tweets(real_ids)\n",
    "\n",
    "df_fake = pd.DataFrame({'text': fake_tweets, 'label': 1})\n",
    "df_real = pd.DataFrame({'text': real_tweets, 'label': 0})\n",
    "\n",
    "df_all = pd.concat([df_fake, df_real]).sample(frac=1).reset_index(drop=True)\n",
    "\n",
    "df_all.to_csv(\"../data/processed/combined_raw_tweets.csv\", index=False)"
   ]
  }
 ],
 "metadata": {
  "kernelspec": {
   "display_name": ".venv",
   "language": "python",
   "name": "python3"
  },
  "language_info": {
   "codemirror_mode": {
    "name": "ipython",
    "version": 3
   },
   "file_extension": ".py",
   "mimetype": "text/x-python",
   "name": "python",
   "nbconvert_exporter": "python",
   "pygments_lexer": "ipython3",
   "version": "3.12.1"
  }
 },
 "nbformat": 4,
 "nbformat_minor": 5
}
